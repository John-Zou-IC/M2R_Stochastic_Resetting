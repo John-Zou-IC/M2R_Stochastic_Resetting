{
 "cells": [
  {
   "cell_type": "code",
   "execution_count": 1,
   "metadata": {},
   "outputs": [
    {
     "name": "stdout",
     "output_type": "stream",
     "text": [
      "Obtaining file:///Users/johnzou/Desktop/Imperial/24-25/M2R/M2R_Program_Folder/M2R_Stochastic_Resetting\n",
      "  Installing build dependencies ... \u001b[?25ldone\n",
      "\u001b[?25h  Checking if build backend supports build_editable ... \u001b[?25ldone\n",
      "\u001b[?25h  Getting requirements to build editable ... \u001b[?25ldone\n",
      "\u001b[?25h  Installing backend dependencies ... \u001b[?25ldone\n",
      "\u001b[?25h  Preparing editable metadata (pyproject.toml) ... \u001b[?25ldone\n",
      "\u001b[?25hRequirement already satisfied: matplotlib in /Users/johnzou/Desktop/Imperial/24-25/M2R/M2R_Program_Folder/M2R_venv/lib/python3.12/site-packages (from m2r_group_5_project==0.1) (3.10.3)\n",
      "Requirement already satisfied: numpy in /Users/johnzou/Desktop/Imperial/24-25/M2R/M2R_Program_Folder/M2R_venv/lib/python3.12/site-packages (from m2r_group_5_project==0.1) (2.2.6)\n",
      "Requirement already satisfied: contourpy>=1.0.1 in /Users/johnzou/Desktop/Imperial/24-25/M2R/M2R_Program_Folder/M2R_venv/lib/python3.12/site-packages (from matplotlib->m2r_group_5_project==0.1) (1.3.2)\n",
      "Requirement already satisfied: cycler>=0.10 in /Users/johnzou/Desktop/Imperial/24-25/M2R/M2R_Program_Folder/M2R_venv/lib/python3.12/site-packages (from matplotlib->m2r_group_5_project==0.1) (0.12.1)\n",
      "Requirement already satisfied: fonttools>=4.22.0 in /Users/johnzou/Desktop/Imperial/24-25/M2R/M2R_Program_Folder/M2R_venv/lib/python3.12/site-packages (from matplotlib->m2r_group_5_project==0.1) (4.58.1)\n",
      "Requirement already satisfied: kiwisolver>=1.3.1 in /Users/johnzou/Desktop/Imperial/24-25/M2R/M2R_Program_Folder/M2R_venv/lib/python3.12/site-packages (from matplotlib->m2r_group_5_project==0.1) (1.4.8)\n",
      "Requirement already satisfied: packaging>=20.0 in /Users/johnzou/Desktop/Imperial/24-25/M2R/M2R_Program_Folder/M2R_venv/lib/python3.12/site-packages (from matplotlib->m2r_group_5_project==0.1) (25.0)\n",
      "Requirement already satisfied: pillow>=8 in /Users/johnzou/Desktop/Imperial/24-25/M2R/M2R_Program_Folder/M2R_venv/lib/python3.12/site-packages (from matplotlib->m2r_group_5_project==0.1) (11.2.1)\n",
      "Requirement already satisfied: pyparsing>=2.3.1 in /Users/johnzou/Desktop/Imperial/24-25/M2R/M2R_Program_Folder/M2R_venv/lib/python3.12/site-packages (from matplotlib->m2r_group_5_project==0.1) (3.2.3)\n",
      "Requirement already satisfied: python-dateutil>=2.7 in /Users/johnzou/Desktop/Imperial/24-25/M2R/M2R_Program_Folder/M2R_venv/lib/python3.12/site-packages (from matplotlib->m2r_group_5_project==0.1) (2.9.0.post0)\n",
      "Requirement already satisfied: six>=1.5 in /Users/johnzou/Desktop/Imperial/24-25/M2R/M2R_Program_Folder/M2R_venv/lib/python3.12/site-packages (from python-dateutil>=2.7->matplotlib->m2r_group_5_project==0.1) (1.17.0)\n",
      "Building wheels for collected packages: m2r_group_5_project\n",
      "  Building editable for m2r_group_5_project (pyproject.toml) ... \u001b[?25ldone\n",
      "\u001b[?25h  Created wheel for m2r_group_5_project: filename=m2r_group_5_project-0.1-py2.py3-none-any.whl size=1083 sha256=b401e6d0db4430f70c48d05110343ac249bf24ef9c47d0a86c140a60614d4a67\n",
      "  Stored in directory: /private/var/folders/3p/w84v6ygx0s17b7n5xsxtgvt40000gn/T/pip-ephem-wheel-cache-kq5y_ip1/wheels/db/d0/a8/ad216511d0b27b08558a0cb11ad2006412bc6109e07c803c55\n",
      "Successfully built m2r_group_5_project\n",
      "Installing collected packages: m2r_group_5_project\n",
      "  Attempting uninstall: m2r_group_5_project\n",
      "    Found existing installation: m2r_group_5_project 0.1\n",
      "    Uninstalling m2r_group_5_project-0.1:\n",
      "      Successfully uninstalled m2r_group_5_project-0.1\n",
      "Successfully installed m2r_group_5_project-0.1\n",
      "\n",
      "\u001b[1m[\u001b[0m\u001b[34;49mnotice\u001b[0m\u001b[1;39;49m]\u001b[0m\u001b[39;49m A new release of pip is available: \u001b[0m\u001b[31;49m24.2\u001b[0m\u001b[39;49m -> \u001b[0m\u001b[32;49m25.1.1\u001b[0m\n",
      "\u001b[1m[\u001b[0m\u001b[34;49mnotice\u001b[0m\u001b[1;39;49m]\u001b[0m\u001b[39;49m To update, run: \u001b[0m\u001b[32;49mpip install --upgrade pip\u001b[0m\n"
     ]
    }
   ],
   "source": [
    "import sys\n",
    "!{sys.executable} -m pip install -e ."
   ]
  },
  {
   "cell_type": "code",
   "execution_count": 3,
   "metadata": {},
   "outputs": [
    {
     "data": {
      "image/png": "[encoded data removed]",
      "text/plain": [
       "<Figure size 350x250 with 1 Axes>"
      ]
     },
     "metadata": {},
     "output_type": "display_data"
    }
   ],
   "source": [
    "import stochastic_resetting.standard as s\n",
    "\n",
    "test_diffusion = s.SingleDiffusionProcess(0, 1)\n",
    "\n",
    "s.plot_simulation(test_diffusion, 100, 0.1)"
   ]
  },
  {
   "cell_type": "code",
   "execution_count": null,
   "metadata": {},
   "outputs": [
    {
     "data": {
      "text/plain": [
       "-1"
      ]
     },
     "execution_count": 3,
     "metadata": {},
     "output_type": "execute_result"
    }
   ],
   "source": []
  }
 ],
 "metadata": {
  "kernelspec": {
   "display_name": "M2R_venv",
   "language": "python",
   "name": "python3"
  },
  "language_info": {
   "codemirror_mode": {
    "name": "ipython",
    "version": 3
   },
   "file_extension": ".py",
   "mimetype": "text/x-python",
   "name": "python",
   "nbconvert_exporter": "python",
   "pygments_lexer": "ipython3",
   "version": "3.12.7"
  }
 },
 "nbformat": 4,
 "nbformat_minor": 2
}
